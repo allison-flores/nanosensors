{
 "cells": [
  {
   "cell_type": "code",
   "execution_count": 2,
   "metadata": {},
   "outputs": [],
   "source": [
    "import os\n",
    "import numpy as np\n",
    "from Bio import SeqIO\n",
    "from tqdm import tqdm\n",
    "import matplotlib.pyplot as plt\n",
    "from Bio.Seq import Seq\n",
    "import pandas as pd"
   ]
  },
  {
   "cell_type": "code",
   "execution_count": 17,
   "metadata": {
    "scrolled": true
   },
   "outputs": [
    {
     "name": "stdout",
     "output_type": "stream",
     "text": [
      "['S18_L001_R1_001.fastq', 'S18_L001_R2_001.fastq', 'S19_L001_R1_001.fastq', 'S19_L001_R2_001.fastq', 'S20_L001_R1_001.fastq', 'S20_L001_R2_001.fastq', 'S21_L001_R1_001.fastq', 'S21_L001_R2_001.fastq', 'S22_L001_R1_001.fastq', 'S22_L001_R2_001.fastq', 'S23_L001_R1_001.fastq', 'S23_L001_R2_001.fastq', 'run1_S1_L001_R1_001.fastq', 'run1_S1_L001_R2_001.fastq', 'run1_S2_L001_R1_001.fastq', 'run1_S2_L001_R2_001.fastq', 'run1_S3_L001_R1_001.fastq', 'run1_S3_L001_R2_001.fastq', 'run1_S4_L001_R1_001.fastq', 'run1_S4_L001_R2_001.fastq', 'run1_S5_L001_R1_001.fastq', 'run1_S5_L001_R2_001.fastq', 'run1_S6_L001_R1_001.fastq', 'run1_S6_L001_R2_001.fastq', 'run2_S10_L001_R1_001.fastq', 'run2_S10_L001_R2_001.fastq', 'run2_S11_L001_R1_001.fastq', 'run2_S11_L001_R2_001.fastq', 'run2_S7_L001_R1_001.fastq', 'run2_S7_L001_R2_001.fastq', 'run2_S8_L001_R1_001.fastq', 'run2_S8_L001_R2_001.fastq', 'run2_S9_L001_R1_001.fastq', 'run2_S9_L001_R2_001.fastq', 'run3_S12_L001_R1_001.fastq', 'run3_S12_L001_R2_001.fastq', 'run3_S13_L001_R1_001.fastq', 'run3_S13_L001_R2_001.fastq', 'run3_S14_L001_R1_001.fastq', 'run3_S14_L001_R2_001.fastq', 'run3_S15_L001_R1_001.fastq', 'run3_S15_L001_R2_001.fastq', 'run3_S16_L001_R1_001.fastq', 'run3_S16_L001_R2_001.fastq', 'run3_S17_L001_R1_001.fastq', 'run3_S17_L001_R2_001.fastq']\n"
     ]
    }
   ],
   "source": [
    "#create list of fastq files we will want to merge\n",
    "fastq_list = []\n",
    "f = 'fastq'\n",
    "\n",
    "for i in os.listdir():\n",
    "    if \"fastq\" in i:\n",
    "        fastq_list.append(i)\n",
    "             \n",
    "fastq_list.sort()\n",
    "print(fastq_list)\n",
    "        "
   ]
  },
  {
   "cell_type": "code",
   "execution_count": 18,
   "metadata": {},
   "outputs": [],
   "source": [
    "#iterate through fastq list and merge paired-reads with bbmerge\n",
    "\n",
    "index = 0\n",
    "merged_list = []\n",
    "\n",
    "\n",
    "while index < len(fastq_list):\n",
    "    sample = fastq_list[index].split('_')[len(fastq_list[index].split('_'))-4]\n",
    "    os.system(f'. ./bbmap/bbmerge.sh in1={fastq_list[index]} in2={fastq_list[index+1]} out=merged_{sample}.fastq outu=unmerged_{sample}.fastq')\n",
    "    merged_list.append('merged_' + sample + '.fastq')\n",
    "    index += 2\n",
    "    \n"
   ]
  },
  {
   "cell_type": "code",
   "execution_count": 19,
   "metadata": {},
   "outputs": [
    {
     "name": "stdout",
     "output_type": "stream",
     "text": [
      "['merged_S1.fastq', 'merged_S10.fastq', 'merged_S11.fastq', 'merged_S12.fastq', 'merged_S13.fastq', 'merged_S14.fastq', 'merged_S15.fastq', 'merged_S16.fastq', 'merged_S17.fastq', 'merged_S18.fastq', 'merged_S19.fastq', 'merged_S2.fastq', 'merged_S20.fastq', 'merged_S21.fastq', 'merged_S22.fastq', 'merged_S23.fastq', 'merged_S3.fastq', 'merged_S4.fastq', 'merged_S5.fastq', 'merged_S6.fastq', 'merged_S7.fastq', 'merged_S8.fastq', 'merged_S9.fastq']\n"
     ]
    }
   ],
   "source": [
    "#if merged files already exist, run to remake list of merged files\n",
    "merged_list = []\n",
    "for i in os.listdir():\n",
    "    if \"merged\" in i and \"unmerged\" not in i:\n",
    "        merged_list.append(i)\n",
    "             \n",
    "merged_list.sort()\n",
    "print(merged_list)\n",
    "        "
   ]
  },
  {
   "cell_type": "code",
   "execution_count": 21,
   "metadata": {
    "scrolled": false
   },
   "outputs": [
    {
     "name": "stderr",
     "output_type": "stream",
     "text": [
      "224050it [00:09, 24515.24it/s]\n",
      "236882it [00:09, 25516.31it/s]\n",
      "183693it [00:07, 25012.37it/s]\n",
      "439883it [00:19, 23017.59it/s]\n",
      "252151it [00:09, 25259.47it/s]\n",
      "259627it [00:10, 24975.61it/s]\n",
      "234862it [00:09, 25500.54it/s]\n",
      "198711it [00:08, 23758.11it/s]\n",
      "303823it [00:11, 25508.04it/s]\n",
      "208002it [00:09, 21572.91it/s]\n",
      "181058it [00:07, 25457.26it/s]\n",
      "386789it [00:15, 25134.17it/s]\n",
      "354372it [00:14, 25174.24it/s]\n",
      "396846it [00:18, 21720.63it/s]\n",
      "320414it [00:12, 25322.33it/s]\n",
      "414853it [00:16, 24769.44it/s]\n",
      "271549it [00:10, 25013.92it/s]\n",
      "209420it [00:08, 24429.31it/s]\n",
      "202062it [00:08, 25161.44it/s]\n",
      "227975it [00:10, 21811.05it/s]\n",
      "389490it [00:15, 24878.66it/s]\n",
      "413532it [00:17, 23945.90it/s]\n",
      "255802it [00:10, 24546.88it/s]\n"
     ]
    }
   ],
   "source": [
    "forward_primer = \"GAACGTGAGTTTGTGGCG\" #shorter version inclusive of both\n",
    "reverse_primer = \"CCCCAGTAATCGTAATC\"\n",
    "\n",
    "\"\"\"set up empty lists to count various occurances\"\"\"\n",
    "i = 0\n",
    "read_num = [0]*len(merged_list) #total reads per sample\n",
    "counts_forward = [0]*len(merged_list) #num reads with forward primer(s)\n",
    "counts_reverse = [0]*len(merged_list) #num reads with reverse primer\n",
    "\n",
    "nok = [0]*len(merged_list) #num reads with specifically the no K forward primer\n",
    "\n",
    "low_phred = [0]*len(merged_list) #reads tossed for low phred score\n",
    "not_found = [0]*len(merged_list) #num reads where primers aren't found\n",
    "\n",
    "seq_df = pd.DataFrame()\n",
    "well_dict = {} #wells = keys, where values = dict of read seq + # of appearances\n",
    "not_found_list = []\n",
    "\n",
    "def trim(sequence, primer):\n",
    "    start = str(record.seq).find(primer)\n",
    "    return str(record.seq)[start:start+208]\n",
    "\n",
    "\"\"\"now let's iterate through the merged files and trim reads\"\"\"\n",
    "for file in merged_list: #iterate through all the merged files\n",
    "    \n",
    "    prefix = file.split('.')[0]\n",
    "    well_num = prefix.split('_')[1] #determine sample number, ex: S1\n",
    "    \n",
    "    well_dict[well_num] = {} #add well to overall dictionary \n",
    "    for record in tqdm(SeqIO.parse(file, 'fastq')): #iterate through all the reads\n",
    "        read_num[i] += 1\n",
    "        if np.mean(record.letter_annotations[\"phred_quality\"]) >= 20: #only enter if high quality read\n",
    "            \n",
    "            sequence = str(record.seq)\n",
    "            \n",
    "            #forwardize all sequences\n",
    "            if reverse_primer in sequence:\n",
    "                sequence = str(Seq(sequence).reverse_complement())\n",
    "                counts_reverse[i] += 1\n",
    "            \n",
    "            if forward_primer in sequence:\n",
    "                counts_forward[i] += 1\n",
    "                start = sequence.find(forward_primer)\n",
    "                sequence = sequence[start:start+208]\n",
    "                \n",
    "                if sequence in well_dict[well_num]:\n",
    "                    well_dict[well_num][sequence] += 1\n",
    "                else:\n",
    "                    well_dict[well_num][sequence] = 1\n",
    "            else:\n",
    "                not_found[i] += 1\n",
    "                not_found_list.append(sequence)\n",
    "                \n",
    "            \n",
    "        else:\n",
    "            low_phred[i] += 1    \n",
    "\n",
    "    i += 1        \n",
    "                \n"
   ]
  },
  {
   "cell_type": "code",
   "execution_count": 22,
   "metadata": {},
   "outputs": [
    {
     "name": "stdout",
     "output_type": "stream",
     "text": [
      "                                                    S1\n",
      "seq                                                   \n",
      "GAACGTGAGTTTGTGGCGGCCATTAGCTTCTCTGGGGCCATCACCTA...   2\n",
      "GAACGTGAGTTTGTGGCGACCATTGGCGTCTCTGGGGCCAACACCTA...   2\n",
      "GAACGTGAGTTTGTGGCGAGCATTACCAACTCTGGGGGCAGCACCTA...   2\n",
      "GAACGTGAGTTTGTGGCGGGCATTAACTACTCTGGGGGCAACACCTA...   1\n",
      "GAACGTGAGTTTGTGGCGAGCATTGACTCCTCTGGGGGCAACACCTA...   1\n",
      "...                                                 ..\n",
      "GAACGTGAGTTTGTGGCGGGCATTACCAACTCTGGGACCATCACCAA...   1\n",
      "GAACGTGAGTTTGTGGCGGGCATTGCCCTCTCTGGGAGCAACACCTA...   1\n",
      "GAACGTGAGTTTGTGGCGGCCATTACCCTCTCTGGGGCCAACACCTA...   1\n",
      "GAACGTGAGTTTGTGGCGGCCATTGACGTCTCTGGGACCATCACCTA...   1\n",
      "GAACGTGAGTTTGTGGCGGCCATTAACGTCTCTGGGGGCATCACCTA...   1\n",
      "\n",
      "[175455 rows x 1 columns]\n"
     ]
    }
   ],
   "source": [
    "#convert to pandas dataframe and concatinate\n",
    "\n",
    "big_df = pd.DataFrame()\n",
    "\n",
    "working_df = pd.DataFrame(list(well_dict['S1'].items()), columns=['seq','S1'])\n",
    "working_df = working_df.set_index('seq')\n",
    "\n",
    "for sample in well_dict.keys():\n",
    "    working_df = pd.DataFrame(list(well_dict[sample].items()), columns=['seq',sample])\n",
    "    working_df = working_df.set_index('seq')\n",
    "    conc_df = pd.concat([big_df, working_df], axis = 1 )\n",
    "    big_df = conc_df\n",
    "    \n",
    "   \n"
   ]
  },
  {
   "cell_type": "code",
   "execution_count": 24,
   "metadata": {
    "scrolled": true
   },
   "outputs": [
    {
     "name": "stdout",
     "output_type": "stream",
     "text": [
      "                                                     S1     S2      S3     S4  \\\n",
      "seq                                                                             \n",
      "GAACGTGAGTTTGTGGCGACTATTTCCTGGTCTGGGGGGTCTACCTA...  562  47296  180150  26785   \n",
      "GAACGTGAGTTTGTGGCGGCCATTGCCCTCTCTGGGAGCATCACCTA...    1     13       3     12   \n",
      "GAACGTGAGTTTGTGGCGACTATTTCCTGGTCTGGGGGGTCTACCTA...    2    732     248    100   \n",
      "GAACGTGAGTTTGTGGCGACTATTTCCTGGTCTGGGGGGTCTACCTA...    1     30      38     43   \n",
      "GAACGTGAGTTTGTGGCGACTATTTCCTGGTCTGGGGGGTCTACCTA...    1      4      15      2   \n",
      "...                                                 ...    ...     ...    ...   \n",
      "GAACGTGAGTTTGTGGCGACTATTTCCTGGTCTGGGGGGTCCACCTA...    1     14      68     13   \n",
      "GAACGTGAGTTTGTGGCGACTATTTCCTGGTCTGGGGGGTCTACCTA...    1    930     552    614   \n",
      "GAACGTGAGTTTGTGGCGGCCATTGGCTTCTCTGGGAGCATCACCTA...    1     24       3      2   \n",
      "GAACGTGAGTTTGTGGCGACTATTTCCTGGTCTGGGGGGTCTACCTA...    1      8      26      5   \n",
      "GAACGTGAGTTTGTGGCGGCCATTAGCTTCTCTGGGAGCAACACCTA...    1      9       1      1   \n",
      "\n",
      "                                                       S5     S6  \n",
      "seq                                                               \n",
      "GAACGTGAGTTTGTGGCGACTATTTCCTGGTCTGGGGGGTCTACCTA...  20360  19813  \n",
      "GAACGTGAGTTTGTGGCGGCCATTGCCCTCTCTGGGAGCATCACCTA...      8     14  \n",
      "GAACGTGAGTTTGTGGCGACTATTTCCTGGTCTGGGGGGTCTACCTA...     47     71  \n",
      "GAACGTGAGTTTGTGGCGACTATTTCCTGGTCTGGGGGGTCTACCTA...     23     19  \n",
      "GAACGTGAGTTTGTGGCGACTATTTCCTGGTCTGGGGGGTCTACCTA...      1      2  \n",
      "...                                                   ...    ...  \n",
      "GAACGTGAGTTTGTGGCGACTATTTCCTGGTCTGGGGGGTCCACCTA...     12     22  \n",
      "GAACGTGAGTTTGTGGCGACTATTTCCTGGTCTGGGGGGTCTACCTA...    536    512  \n",
      "GAACGTGAGTTTGTGGCGGCCATTGGCTTCTCTGGGAGCATCACCTA...      2      4  \n",
      "GAACGTGAGTTTGTGGCGACTATTTCCTGGTCTGGGGGGTCTACCTA...      1      1  \n",
      "GAACGTGAGTTTGTGGCGGCCATTAGCTTCTCTGGGAGCAACACCTA...      1      5  \n",
      "\n",
      "[142 rows x 6 columns]\n"
     ]
    }
   ],
   "source": [
    "#lets try to merge the dataframes together instead to only keep sequences that appear in all\n",
    "\n",
    "\n",
    "run1 = ['S1', 'S2', 'S3', 'S4', 'S5', 'S6']\n",
    "run2 = ['S7', 'S8', 'S9', 'S10', 'S11']\n",
    "run3 = ['S12', 'S13', 'S14', 'S15', 'S16', 'S17']\n",
    "\n",
    "i = 1\n",
    "for sample in run1:\n",
    "    if i == 1:\n",
    "        merged_df = pd.DataFrame(list(well_dict[sample].items()), columns=['seq',sample])\n",
    "        merged_df = merged_df.set_index('seq')\n",
    "    else:\n",
    "        working_df = pd.DataFrame(list(well_dict[sample].items()), columns=['seq',sample])\n",
    "        working_df = working_df.set_index('seq')\n",
    "        df = pd.merge(merged_df, working_df, left_index=True, right_index=True)\n",
    "        #df = pd.concat([merged_df, working_df], axis = 1 )\n",
    "        merged_df = df\n",
    "    i += 1\n",
    "    \n",
    "print(merged_df)\n",
    "merged_df.to_csv('col1_conc.csv')   \n",
    "   "
   ]
  },
  {
   "cell_type": "code",
   "execution_count": 23,
   "metadata": {},
   "outputs": [
    {
     "name": "stdout",
     "output_type": "stream",
     "text": [
      "                                                      S7    S6   S23_x   S17  \\\n",
      "seq                                                                            \n",
      "GAACGTGAGTTTGTGGCGACTATTTCCTGGTCTGGGGGGTCTACCTA...  1994  2057  106841  1770   \n",
      "GAACGTGAGTTTGTGGCGACTATTTCCTGGTCTGGGGGGTCTACCTA...     1     1      48     2   \n",
      "GAACGTGAGTTTGTGGCGACTATTTCCTGGTCTGGGGGGTCTACCTA...     2     1      49     2   \n",
      "GAACGTGAGTTTGTGGCGACTATTTCCTGGTCTGGGGGGTCTACCTA...    18    38     240    29   \n",
      "GAACGTGAGTTTGTGGCGACTATTGTTACGTCTGGCGGCGGTACCGG...     2    49       1    20   \n",
      "...                                                  ...   ...     ...   ...   \n",
      "GAACGTGAGTTTGTGGCGACTATTGATTCGTCTGGCGGCAGTACCGG...     2    42       1    11   \n",
      "GAACGTGAGTTTGTGGCGACTATTTTTGCGTCTGGCGGCCGTACCGG...     1    66       1   109   \n",
      "GAACGTGAGTTTGTGGCGACTATTCATACGTCTGGCGGCAGTACCGG...     1    70       1    27   \n",
      "GAACGTGAGTTTGTGGCGACTATTTCCTGGTCTGGGGGGTCCACCTA...     1     1      42     1   \n",
      "GAACGTGAGTTTGTGGCGACTATTTATACGTCTGGCGGCCGTACCGG...     1    41       1    13   \n",
      "\n",
      "                                                     S4   S23_y  \n",
      "seq                                                              \n",
      "GAACGTGAGTTTGTGGCGACTATTTCCTGGTCTGGGGGGTCTACCTA...  270  106841  \n",
      "GAACGTGAGTTTGTGGCGACTATTTCCTGGTCTGGGGGGTCTACCTA...    1      48  \n",
      "GAACGTGAGTTTGTGGCGACTATTTCCTGGTCTGGGGGGTCTACCTA...    1      49  \n",
      "GAACGTGAGTTTGTGGCGACTATTTCCTGGTCTGGGGGGTCTACCTA...    7     240  \n",
      "GAACGTGAGTTTGTGGCGACTATTGTTACGTCTGGCGGCGGTACCGG...    5       1  \n",
      "...                                                 ...     ...  \n",
      "GAACGTGAGTTTGTGGCGACTATTGATTCGTCTGGCGGCAGTACCGG...    1       1  \n",
      "GAACGTGAGTTTGTGGCGACTATTTTTGCGTCTGGCGGCCGTACCGG...   68       1  \n",
      "GAACGTGAGTTTGTGGCGACTATTCATACGTCTGGCGGCAGTACCGG...    6       1  \n",
      "GAACGTGAGTTTGTGGCGACTATTTCCTGGTCTGGGGGGTCCACCTA...    2      42  \n",
      "GAACGTGAGTTTGTGGCGACTATTTATACGTCTGGCGGCCGTACCGG...   12       1  \n",
      "\n",
      "[144 rows x 6 columns]\n"
     ]
    }
   ],
   "source": [
    "i = 1\n",
    "for sample in run2:\n",
    "    if i == 1:\n",
    "        merged_df = pd.DataFrame(list(well_dict[sample].items()), columns=['seq',sample])\n",
    "        merged_df = merged_df.set_index('seq')\n",
    "    else:\n",
    "        working_df = pd.DataFrame(list(well_dict[sample].items()), columns=['seq',sample])\n",
    "        working_df = working_df.set_index('seq')\n",
    "        df = pd.merge(merged_df, working_df, left_index=True, right_index=True)\n",
    "        merged_df = df\n",
    "    i += 1\n",
    "    \n",
    "print(merged_df)\n",
    "#merged_df.to_csv('col2_conc.csv') #remove comment to export to CVS"
   ]
  },
  {
   "cell_type": "code",
   "execution_count": 25,
   "metadata": {},
   "outputs": [
    {
     "name": "stdout",
     "output_type": "stream",
     "text": [
      "                                                    S12  S13  S14   S15   S16  \\\n",
      "seq                                                                             \n",
      "GAACGTGAGTTTGTGGCGACTATTGATCCGTCTGGCGGCATTACCGG...   79    4    1    37    14   \n",
      "GAACGTGAGTTTGTGGCGACTATTGGTCCGTCTGGCGGCATTACCGG...  346   35   59  2306  9719   \n",
      "GAACGTGAGTTTGTGGCGACTATTAGTCCGTCTGGCGGCTTTACCGG...   76    1    3    49    49   \n",
      "GAACGTGAGTTTGTGGCGACTATTAGTCCGTCTGGCGGCTGTACCGG...  151    5    3    47    36   \n",
      "GAACGTGAGTTTGTGGCGACTATTATTACGTCTGGCGGCGGTACCGG...  198    2    1     8     8   \n",
      "...                                                 ...  ...  ...   ...   ...   \n",
      "GAACGTGAGTTTGTGGCGACCATTGCCATCTCTGGGAGCATCACCTA...    1    2   68     1     2   \n",
      "GAACGTGAGTTTGTGGCGACCATTGCCGTCTCTGGGACCATCACCTA...    1    1   37     2     1   \n",
      "GAACGTGAGTTTGTGGCGACTATTTCCTGGTCTGGGGGGTCTACCTA...    2    4  121    12     8   \n",
      "GAACGTGAGTTTGTGGCGACTATTTCCTGGTCTGGGGGGTCTACCTA...    1    1   89     3     5   \n",
      "GAACGTGAGTTTGTGGCGACTATTTCCTGGTCTGGGGGCAGCACCTA...    1    1   78     3     1   \n",
      "\n",
      "                                                      S17  \n",
      "seq                                                        \n",
      "GAACGTGAGTTTGTGGCGACTATTGATCCGTCTGGCGGCATTACCGG...     27  \n",
      "GAACGTGAGTTTGTGGCGACTATTGGTCCGTCTGGCGGCATTACCGG...  25778  \n",
      "GAACGTGAGTTTGTGGCGACTATTAGTCCGTCTGGCGGCTTTACCGG...     28  \n",
      "GAACGTGAGTTTGTGGCGACTATTAGTCCGTCTGGCGGCTGTACCGG...     10  \n",
      "GAACGTGAGTTTGTGGCGACTATTATTACGTCTGGCGGCGGTACCGG...      2  \n",
      "...                                                   ...  \n",
      "GAACGTGAGTTTGTGGCGACCATTGCCATCTCTGGGAGCATCACCTA...      3  \n",
      "GAACGTGAGTTTGTGGCGACCATTGCCGTCTCTGGGACCATCACCTA...      1  \n",
      "GAACGTGAGTTTGTGGCGACTATTTCCTGGTCTGGGGGGTCTACCTA...      6  \n",
      "GAACGTGAGTTTGTGGCGACTATTTCCTGGTCTGGGGGGTCTACCTA...      4  \n",
      "GAACGTGAGTTTGTGGCGACTATTTCCTGGTCTGGGGGCAGCACCTA...      1  \n",
      "\n",
      "[194 rows x 6 columns]\n"
     ]
    }
   ],
   "source": [
    "i = 1\n",
    "for sample in run3:\n",
    "    if i == 1:\n",
    "        merged_df = pd.DataFrame(list(well_dict[sample].items()), columns=['seq',sample])\n",
    "        merged_df = merged_df.set_index('seq')\n",
    "    else:\n",
    "        working_df = pd.DataFrame(list(well_dict[sample].items()), columns=['seq',sample])\n",
    "        working_df = working_df.set_index('seq')\n",
    "        df = pd.merge(merged_df, working_df, left_index=True, right_index=True)\n",
    "        merged_df = df\n",
    "    i += 1\n",
    "    \n",
    "print(merged_df)\n",
    "#merged_df.to_csv('col3_conc.csv') #remove comment to export to CVS"
   ]
  },
  {
   "cell_type": "code",
   "execution_count": 28,
   "metadata": {
    "scrolled": true
   },
   "outputs": [
    {
     "name": "stdout",
     "output_type": "stream",
     "text": [
      "read_num: [224050, 236882, 183693, 439883, 252151, 259627, 234862, 198711, 303823, 208002, 181058, 386789, 354372, 396846, 320414, 414853, 271549, 209420, 202062, 227975, 389490, 413532, 255802]\n",
      "forward counts: [212067, 220135, 172127, 331766, 240571, 247932, 218379, 183375, 277237, 196325, 170286, 272247, 230500, 292257, 224596, 294355, 257991, 195954, 187150, 207508, 283758, 292970, 239943]\n",
      "reverse counts: [93669, 106467, 81945, 143177, 101078, 122000, 102236, 86816, 131903, 87750, 76571, 112853, 92236, 117948, 102835, 125451, 127014, 93233, 85573, 96470, 113897, 132083, 113119]\n",
      "phred score too low: [0, 0, 0, 0, 0, 0, 0, 0, 0, 0, 0, 0, 0, 0, 0, 0, 0, 0, 0, 0, 0, 0, 0]\n",
      "primers not found: [11983, 16747, 11566, 108117, 11580, 11695, 16483, 15336, 26586, 11677, 10772, 114542, 123872, 104589, 95818, 120498, 13558, 13466, 14912, 20467, 105732, 120562, 15859]\n"
     ]
    }
   ],
   "source": [
    "print('read_num: ' + str(read_num))\n",
    "print('forward counts: ' + str(counts_forward))\n",
    "print('reverse counts: ' + str(counts_reverse))\n",
    "print('phred score too low: ' + str(low_phred))\n",
    "print('primers not found: ' + str(not_found))"
   ]
  },
  {
   "cell_type": "code",
   "execution_count": null,
   "metadata": {},
   "outputs": [],
   "source": []
  }
 ],
 "metadata": {
  "kernelspec": {
   "display_name": "Python 3",
   "language": "python",
   "name": "python3"
  },
  "language_info": {
   "codemirror_mode": {
    "name": "ipython",
    "version": 3
   },
   "file_extension": ".py",
   "mimetype": "text/x-python",
   "name": "python",
   "nbconvert_exporter": "python",
   "pygments_lexer": "ipython3",
   "version": "3.8.3"
  }
 },
 "nbformat": 4,
 "nbformat_minor": 4
}
